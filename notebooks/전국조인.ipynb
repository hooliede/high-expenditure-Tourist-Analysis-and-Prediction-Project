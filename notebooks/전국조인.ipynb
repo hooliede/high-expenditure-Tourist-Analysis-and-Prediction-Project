{
 "cells": [
  {
   "cell_type": "code",
   "execution_count": null,
   "metadata": {},
   "outputs": [],
   "source": [
    "import pandas as pd\n",
    "\n",
    "# 여행자\n",
    "df_traveller = pd.read_csv('c:/Users/tj/Desktop/정규프로젝트/data/TR/TR_전국_전처리/tr_traveller_조인전.csv')\n",
    "\n",
    "# 이동수단 유형,가격\n",
    "df_mvmn_consume = pd.read_csv('c:/Users/tj/Desktop/정규프로젝트/data/TR/TR_전국_전처리/이동/tr_mvmn_전국_유형,가격완성본.csv')\n",
    "\n",
    "# 숙박 유형, 소비\n",
    "df_lodge_consume = pd.read_csv('c:/Users/tj/Desktop/정규프로젝트/data/TR/TR_전국_전처리/숙박/tr_lodge_전국_유형,가격.csv')\n",
    "\n",
    "# # 사전 소비\n",
    "# df_adv_consume = pd.read_csv('c:/Users/tj/Desktop/정규프로젝트/data/전처리2/adv_total.csv')\n",
    "\n",
    "# 행동 유형, 소비\n",
    "df_activity_consume = pd.read_csv('c:/Users/tj/Desktop/정규프로젝트/data/TR/TR_전국_전처리/행동/tr_activity_전국_가격,유형3.csv')\n"
   ]
  },
  {
   "cell_type": "code",
   "execution_count": null,
   "metadata": {},
   "outputs": [
    {
     "name": "stdout",
     "output_type": "stream",
     "text": [
      "모든 이동 TRAVEL_ID가 여행자 df_traveller에 존재합니다.\n"
     ]
    }
   ],
   "source": [
    "# 이동 TRAVEL_ID가 TRAVELER_ID에 존재하지 않는 값 찾기\n",
    "missing_travel_ids = df_mvmn_consume[~df_mvmn_consume['TRAVEL_ID'].isin(df_traveller['TRAVELER_ID'])]\n",
    "\n",
    "# 존재하지 않는 ID가 있는지 체크\n",
    "if not missing_travel_ids.empty:\n",
    "    print(\"존재하지 않는 TRAVEL_IDs:\")\n",
    "    print(missing_travel_ids['TRAVEL_ID'].unique())  # 고유 ID 출력\n",
    "else:\n",
    "    print(\"모든 이동 TRAVEL_ID가 여행자 df_traveller에 존재합니다.\")"
   ]
  },
  {
   "cell_type": "code",
   "execution_count": 9,
   "metadata": {},
   "outputs": [
    {
     "name": "stdout",
     "output_type": "stream",
     "text": [
      "모든 숙박 TRAVEL_ID가 여행자 df_traveller에 존재합니다.\n"
     ]
    }
   ],
   "source": [
    "# 숙박 TRAVEL_ID가 TRAVELER_ID에 존재하지 않는 값 찾기\n",
    "missing_travel_ids = df_lodge_consume[~df_lodge_consume['TRAVEL_ID'].isin(df_traveller['TRAVELER_ID'])]\n",
    "\n",
    "# 존재하지 않는 ID가 있는지 체크\n",
    "if not missing_travel_ids.empty:\n",
    "    print(\"존재하지 않는 TRAVEL_IDs:\")\n",
    "    print(missing_travel_ids['TRAVEL_ID'].unique())  # 고유 ID 출력\n",
    "else:\n",
    "    print(\"모든 숙박 TRAVEL_ID가 여행자 df_traveller에 존재합니다.\")"
   ]
  },
  {
   "cell_type": "code",
   "execution_count": 10,
   "metadata": {},
   "outputs": [
    {
     "name": "stdout",
     "output_type": "stream",
     "text": [
      "모든 행동 TRAVEL_ID가 여행자 df_traveller에 존재합니다.\n"
     ]
    }
   ],
   "source": [
    "# 행동 TRAVEL_ID가 TRAVELER_ID에 존재하지 않는 값 찾기\n",
    "missing_travel_ids = df_activity_consume[~df_activity_consume['TRAVEL_ID'].isin(df_traveller['TRAVELER_ID'])]\n",
    "\n",
    "# 존재하지 않는 ID가 있는지 체크\n",
    "if not missing_travel_ids.empty:\n",
    "    print(\"존재하지 않는 TRAVEL_IDs:\")\n",
    "    print(missing_travel_ids['TRAVEL_ID'].unique())  # 고유 ID 출력\n",
    "else:\n",
    "    print(\"모든 행동 TRAVEL_ID가 여행자 df_traveller에 존재합니다.\")"
   ]
  },
  {
   "cell_type": "code",
   "execution_count": 11,
   "metadata": {},
   "outputs": [
    {
     "name": "stdout",
     "output_type": "stream",
     "text": [
      "Index(['TRAVELER_ID', 'MALE', 'FEMALE', 'AGE_GRP', 'JOB_1', 'JOB_2', 'JOB_3',\n",
      "       'JOB_4', 'JOB_5', 'TRAVEL_TERM', 'TRAVEL_NUM', 'MOTIVE_1', 'MOTIVE_2',\n",
      "       'MOTIVE_3', 'MOTIVE_4', 'MOTIVE_5', 'MOTIVE_6', 'MOTIVE_7', 'MOTIVE_8',\n",
      "       'MOTIVE_9', 'TRAVEL_COMPANIONS_NUM', 'MARR_STTS', 'FAMILY_MEMB',\n",
      "       'INCOME', 'MVMN_1', 'MVMN_2', 'MVMN_3', 'MVMN_4', 'MVMN_PAYMENT',\n",
      "       'LODGING_1', 'LODGING_2', 'LODGING_3', 'LODGING_4', 'LODGING_5',\n",
      "       'LODGING_6', 'LODGING_PAYMENT', 'ACTIVITY_PAYMENT', 'ACT_TYPE'],\n",
      "      dtype='object')\n",
      "TRAVELER_ID              0\n",
      "MALE                     0\n",
      "FEMALE                   0\n",
      "AGE_GRP                  0\n",
      "JOB_1                    0\n",
      "JOB_2                    0\n",
      "JOB_3                    0\n",
      "JOB_4                    0\n",
      "JOB_5                    0\n",
      "TRAVEL_TERM              0\n",
      "TRAVEL_NUM               0\n",
      "MOTIVE_1                 0\n",
      "MOTIVE_2                 0\n",
      "MOTIVE_3                 0\n",
      "MOTIVE_4                 0\n",
      "MOTIVE_5                 0\n",
      "MOTIVE_6                 0\n",
      "MOTIVE_7                 0\n",
      "MOTIVE_8                 0\n",
      "MOTIVE_9                 0\n",
      "TRAVEL_COMPANIONS_NUM    0\n",
      "MARR_STTS                0\n",
      "FAMILY_MEMB              0\n",
      "INCOME                   0\n",
      "MVMN_1                   0\n",
      "MVMN_2                   0\n",
      "MVMN_3                   0\n",
      "MVMN_4                   0\n",
      "MVMN_PAYMENT             0\n",
      "LODGING_1                0\n",
      "LODGING_2                0\n",
      "LODGING_3                0\n",
      "LODGING_4                0\n",
      "LODGING_5                0\n",
      "LODGING_6                0\n",
      "LODGING_PAYMENT          0\n",
      "ACTIVITY_PAYMENT         0\n",
      "ACT_TYPE                 0\n",
      "dtype: int64\n"
     ]
    },
    {
     "name": "stderr",
     "output_type": "stream",
     "text": [
      "C:\\Users\\tj\\AppData\\Local\\Temp\\ipykernel_9976\\4031687101.py:23: FutureWarning: Setting an item of incompatible dtype is deprecated and will raise an error in a future version of pandas. Value '' has dtype incompatible with float64, please explicitly cast to a compatible dtype first.\n",
      "  merged_df.fillna('', inplace=True)\n"
     ]
    }
   ],
   "source": [
    "# 여행객 - 이동 조인 \n",
    "\n",
    "merged_df = pd.merge(df_traveller, df_mvmn_consume,\n",
    "                    left_on='TRAVELER_ID', right_on='TRAVEL_ID',\n",
    "                    how='left')\n",
    "merged_df.drop(columns=['TRAVEL_ID'], inplace = True) # TRAVEL_ID 칼럼 버리기\n",
    "\n",
    "# 여행객 - 이동 - 숙박 조인\n",
    "merged_df = pd.merge(merged_df, df_lodge_consume,\n",
    "                     left_on = 'TRAVELER_ID', right_on = 'TRAVEL_ID',\n",
    "                     how = 'left')\n",
    "merged_df.drop(columns=['TRAVEL_ID'], inplace = True)\n",
    "\n",
    "# 여행객 - 이동 - 숙박 - 행동 조인\n",
    "merged_df = pd.merge(merged_df, df_activity_consume,\n",
    "                     left_on = 'TRAVELER_ID', right_on = 'TRAVEL_ID',\n",
    "                     how = 'left')\n",
    "merged_df.drop(columns=['TRAVEL_ID'], inplace = True)\n",
    "\n",
    "\n",
    "\n",
    "\n",
    "merged_df.fillna('', inplace=True)\n",
    "\n",
    "print(merged_df.columns)\n",
    "\n",
    "print(merged_df.isnull().sum())"
   ]
  },
  {
   "cell_type": "code",
   "execution_count": null,
   "metadata": {},
   "outputs": [],
   "source": [
    "# merged_df.to_csv('전국_조인.csv', index=False)"
   ]
  }
 ],
 "metadata": {
  "kernelspec": {
   "display_name": "Python 3",
   "language": "python",
   "name": "python3"
  },
  "language_info": {
   "codemirror_mode": {
    "name": "ipython",
    "version": 3
   },
   "file_extension": ".py",
   "mimetype": "text/x-python",
   "name": "python",
   "nbconvert_exporter": "python",
   "pygments_lexer": "ipython3",
   "version": "3.10.11"
  }
 },
 "nbformat": 4,
 "nbformat_minor": 2
}
