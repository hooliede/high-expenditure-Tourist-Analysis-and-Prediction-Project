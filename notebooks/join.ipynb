{
 "cells": [
  {
   "cell_type": "code",
   "execution_count": 1,
   "metadata": {},
   "outputs": [],
   "source": [
    "import pandas as pd\n",
    "\n",
    "# 조인 여행자\n",
    "df_traveller = pd.read_csv('c:/Users/tj/Desktop/정규프로젝트/join_data/merged_total2.csv')\n",
    "# # 이동수단 유형\n",
    "# df_mvmn_consume = pd.read_csv('c:/Users/tj/Desktop/정규프로젝트/data/전처리/tr_mvmn_consume.csv')\n",
    "# # 숙박 유형\n",
    "# df_lodge_consume = pd.read_csv('c:/Users/tj/Desktop/정규프로젝트/data/전처리/tr_lodge_consume.csv')\n",
    "# # 사전 소비\n",
    "# df_adv_consume = pd.read_csv('c:/Users/tj/Desktop/정규프로젝트/data/전처리2/adv_total.csv')\n",
    "# 활동 소비\n",
    "df_activity_consume = pd.read_csv('c:/Users/tj/Desktop/정규프로젝트/data/전처리/tr_activity_대표소비활동.csv', encoding='ISO-8859-1')"
   ]
  },
  {
   "cell_type": "code",
   "execution_count": null,
   "metadata": {},
   "outputs": [],
   "source": [
    "# 이동수단 TRAVEL_ID가 TRAVELER_ID에 존재하지 않는 값 찾기\n",
    "missing_travel_ids = df_mvmn_consume[~df_mvmn_consume['TRAVEL_ID'].isin(df_traveller['TRAVELER_ID'])]\n",
    "\n",
    "# 존재하지 않는 ID가 있는지 체크\n",
    "if not missing_travel_ids.empty:\n",
    "    print(\"존재하지 않는 TRAVEL_IDs:\")\n",
    "    print(missing_travel_ids['TRAVEL_ID'].unique())  # 고유 ID 출력\n",
    "else:\n",
    "    print(\"모든 이동 소비 내역 TRAVEL_ID가 df_traveller에 존재합니다.\")\n"
   ]
  },
  {
   "cell_type": "code",
   "execution_count": null,
   "metadata": {},
   "outputs": [],
   "source": [
    "# 숙박 TRAVEL_ID가 TRAVELER_ID에 존재하지 않는 값 찾기\n",
    "missing_travel_ids = df_lodge_consume[~df_lodge_consume['TRAVEL_ID'].isin(df_traveller['TRAVELER_ID'])]\n",
    "\n",
    "# 존재하지 않는 ID가 있는지 체크\n",
    "if not missing_travel_ids.empty:\n",
    "    print(\"존재하지 않는 TRAVEL_IDs:\")\n",
    "    print(missing_travel_ids['TRAVEL_ID'].unique())  # 고유 ID 출력\n",
    "else:\n",
    "    print(\"모든 숙박 내역 TRAVEL_ID가 df_traveller에 존재합니다.\")"
   ]
  },
  {
   "cell_type": "code",
   "execution_count": 4,
   "metadata": {},
   "outputs": [
    {
     "name": "stdout",
     "output_type": "stream",
     "text": [
      "모든 활동 소비 유형 TRAVEL_ID가 df_traveller에 존재합니다.\n"
     ]
    }
   ],
   "source": [
    "# 활동유형 TRAVEL_ID가 TRAVELER_ID에 존재하지 않는 값 찾기\n",
    "missing_travel_ids = df_activity_consume[~df_activity_consume['TRAVEL_ID'].isin(df_traveller['TRAVELER_ID'])]\n",
    "\n",
    "# 존재하지 않는 ID가 있는지 체크\n",
    "if not missing_travel_ids.empty:\n",
    "    print(\"존재하지 않는 TRAVEL_IDs:\")\n",
    "    print(missing_travel_ids['TRAVEL_ID'].unique())  # 고유 ID 출력\n",
    "else:\n",
    "    print(\"모든 활동 소비 유형 TRAVEL_ID가 df_traveller에 존재합니다.\")"
   ]
  },
  {
   "cell_type": "code",
   "execution_count": null,
   "metadata": {},
   "outputs": [],
   "source": [
    "# 여행객 - 이동유형 조인 \n",
    "\n",
    "merged_df = pd.merge(df_traveller, df_mvmn_consume,\n",
    "                    left_on='TRAVELER_ID', right_on='TRAVEL_ID',\n",
    "                    how='left')\n",
    "merged_df.drop(columns=['TRAVEL_ID'], inplace = True)\n",
    "\n",
    "# 여행객 - 이동유형 - 숙박유형 조인\n",
    "merged_df = pd.merge(merged_df, df_lodge_consume,\n",
    "                     left_on = 'TRAVELER_ID', right_on = 'TRAVEL_ID',\n",
    "                     how = 'left')\n",
    "merged_df.drop(columns=['TRAVEL_ID'], inplace = True)\n",
    "\n",
    "merged_df.fillna('', inplace=True)\n",
    "\n",
    "print(merged_df.columns)\n",
    "\n",
    "print(merged_df.isnull().sum())\n"
   ]
  },
  {
   "cell_type": "code",
   "execution_count": 6,
   "metadata": {},
   "outputs": [
    {
     "name": "stdout",
     "output_type": "stream",
     "text": [
      "Index(['TRAVELER_ID', 'MALE', 'FEMALE', 'AGE_GRP', 'JOB_1', 'JOB_2', 'JOB_3',\n",
      "       'JOB_4', 'JOB_5', 'TRAVEL_TERM', 'TRAVEL_NUM', 'TRAVEL_COMPANIONS_NUM',\n",
      "       'TRAVEL_MOTIVE_1', 'TRAVEL_MOTIVE_2', 'TRAVEL_MOTIVE_3',\n",
      "       'TRAVEL_MOTIVE_4', 'TRAVEL_MOTIVE_5', 'TRAVEL_MOTIVE_6',\n",
      "       'TRAVEL_MOTIVE_7', 'TRAVEL_MOTIVE_8', 'TRAVEL_MOTIVE_9', 'MVMN_1',\n",
      "       'MVMN_2', 'MVMN_3', 'MVMN_4', 'LODGING_TYPE_1', 'LODGING_TYPE_2',\n",
      "       'LODGING_TYPE_3', 'LODGING_TYPE_4', 'LODGING_TYPE_5', 'LODGING_TYPE_6',\n",
      "       'TOTAL_MVMN_PAYMENT', 'TOTAL_LODGING_PAYMENT', 'TOTAL_ADV_PAYMENT',\n",
      "       'TOTAL_ACTIVITY_PAYMENT', 'TOTAL_PAYMENT', 'EDU_NM', 'GRADUATE',\n",
      "       'MARR_STTS', 'FAMILY_MEMB', 'TRAVEL_MOTIVE_1.1', 'PAYMENT_GRADE',\n",
      "       'ACT_TYPE_1', 'ACT_TYPE_2', 'ACT_TYPE_3', 'ACT_TYPE_4'],\n",
      "      dtype='object')\n",
      "TRAVELER_ID               0\n",
      "MALE                      0\n",
      "FEMALE                    0\n",
      "AGE_GRP                   0\n",
      "JOB_1                     0\n",
      "JOB_2                     0\n",
      "JOB_3                     0\n",
      "JOB_4                     0\n",
      "JOB_5                     0\n",
      "TRAVEL_TERM               0\n",
      "TRAVEL_NUM                0\n",
      "TRAVEL_COMPANIONS_NUM     0\n",
      "TRAVEL_MOTIVE_1           0\n",
      "TRAVEL_MOTIVE_2           0\n",
      "TRAVEL_MOTIVE_3           0\n",
      "TRAVEL_MOTIVE_4           0\n",
      "TRAVEL_MOTIVE_5           0\n",
      "TRAVEL_MOTIVE_6           0\n",
      "TRAVEL_MOTIVE_7           0\n",
      "TRAVEL_MOTIVE_8           0\n",
      "TRAVEL_MOTIVE_9           0\n",
      "MVMN_1                    0\n",
      "MVMN_2                    0\n",
      "MVMN_3                    0\n",
      "MVMN_4                    0\n",
      "LODGING_TYPE_1            0\n",
      "LODGING_TYPE_2            0\n",
      "LODGING_TYPE_3            0\n",
      "LODGING_TYPE_4            0\n",
      "LODGING_TYPE_5            0\n",
      "LODGING_TYPE_6            0\n",
      "TOTAL_MVMN_PAYMENT        0\n",
      "TOTAL_LODGING_PAYMENT     0\n",
      "TOTAL_ADV_PAYMENT         0\n",
      "TOTAL_ACTIVITY_PAYMENT    0\n",
      "TOTAL_PAYMENT             0\n",
      "EDU_NM                    0\n",
      "GRADUATE                  0\n",
      "MARR_STTS                 0\n",
      "FAMILY_MEMB               0\n",
      "TRAVEL_MOTIVE_1.1         0\n",
      "PAYMENT_GRADE             0\n",
      "ACT_TYPE_1                0\n",
      "ACT_TYPE_2                0\n",
      "ACT_TYPE_3                0\n",
      "ACT_TYPE_4                0\n",
      "dtype: int64\n"
     ]
    },
    {
     "name": "stderr",
     "output_type": "stream",
     "text": [
      "C:\\Users\\tj\\AppData\\Local\\Temp\\ipykernel_16644\\4110090972.py:8: FutureWarning: Setting an item of incompatible dtype is deprecated and will raise an error in a future version of pandas. Value '' has dtype incompatible with float64, please explicitly cast to a compatible dtype first.\n",
      "  merged_df.fillna('', inplace=True)\n"
     ]
    }
   ],
   "source": [
    "# 여행객 - 활동 유형 조인 \n",
    "\n",
    "merged_df = pd.merge(df_traveller, df_activity_consume,\n",
    "                    left_on='TRAVELER_ID', right_on='TRAVEL_ID',\n",
    "                    how='left')\n",
    "merged_df.drop(columns=['TRAVEL_ID'], inplace = True)\n",
    "\n",
    "merged_df.fillna('', inplace=True)\n",
    "\n",
    "print(merged_df.columns)\n",
    "\n",
    "print(merged_df.isnull().sum())"
   ]
  },
  {
   "cell_type": "code",
   "execution_count": null,
   "metadata": {},
   "outputs": [],
   "source": [
    "# merged_df.to_csv('merged_total3.csv', index=False)"
   ]
  }
 ],
 "metadata": {
  "kernelspec": {
   "display_name": "Python 3",
   "language": "python",
   "name": "python3"
  },
  "language_info": {
   "codemirror_mode": {
    "name": "ipython",
    "version": 3
   },
   "file_extension": ".py",
   "mimetype": "text/x-python",
   "name": "python",
   "nbconvert_exporter": "python",
   "pygments_lexer": "ipython3",
   "version": "3.10.11"
  }
 },
 "nbformat": 4,
 "nbformat_minor": 2
}
