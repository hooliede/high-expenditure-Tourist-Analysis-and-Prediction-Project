{
 "cells": [
  {
   "cell_type": "code",
   "execution_count": 3,
   "metadata": {},
   "outputs": [],
   "source": [
    "# 1. 여행자 <- 행동 조인\n",
    "import pandas as pd # , encoding='ISO-8859-1'\n",
    "\n",
    "# 여행자(조인전)\n",
    "df_traveller = pd.read_csv('c:/Users/qudgn/Desktop/BH/프로젝트/정규프로젝트/data/TR/TR_전국_전처리/데이터복제실험_left.csv', encoding='ISO-8859-1')\n",
    "\n",
    "# 행동(row 중복 o)\n",
    "df_act = pd.read_csv('c:/Users/qudgn/Desktop/BH/프로젝트/정규프로젝트/data/TR/TR_전국_전처리/행동/tr_전국_행동_조인전.csv')\n"
   ]
  },
  {
   "cell_type": "code",
   "execution_count": 4,
   "metadata": {},
   "outputs": [
    {
     "name": "stdout",
     "output_type": "stream",
     "text": [
      "모든 사전_이동 TRAVEL_ID가 df_traveller에 존재합니다.\n"
     ]
    }
   ],
   "source": [
    "# 행동 TRAVEL_ID가 이동 TRAVEL_ID에 존재하지 않는 값 찾기\n",
    "missing_travel_ids = df_act[~df_act['TRAVEL_ID'].isin(df_traveller['TRAVELER_ID'])]\n",
    "\n",
    "# 존재하지 않는 ID가 있는지 체크\n",
    "if not missing_travel_ids.empty:\n",
    "    print(\"존재하지 않는 TRAVEL_IDs:\")\n",
    "    print(missing_travel_ids['TRAVEL_ID'].unique())  # 고유 ID 출력\n",
    "else:\n",
    "    print(\"모든 사전_이동 TRAVEL_ID가 df_traveller에 존재합니다.\")"
   ]
  },
  {
   "cell_type": "code",
   "execution_count": 5,
   "metadata": {},
   "outputs": [
    {
     "name": "stdout",
     "output_type": "stream",
     "text": [
      "Index(['TRAVELER_ID', 'REGION_1', 'REGION_2', 'REGION_3', 'REGION_4', 'MALE',\n",
      "       'FEMALE', 'AGE_GRP', 'JOB_1', 'JOB_2', 'JOB_3', 'JOB_4', 'JOB_5',\n",
      "       'TRAVEL_TERM', 'TRAVEL_NUM', 'MOTIVE_1', 'MOTIVE_2', 'MOTIVE_3',\n",
      "       'MOTIVE_4', 'MOTIVE_5', 'MOTIVE_6', 'MOTIVE_7', 'MOTIVE_8', 'MOTIVE_9',\n",
      "       'TRAVEL_COMPANIONS_NUM', 'MARR_STTS', 'FAMILY_MEMB', 'INCOME', 'MVMN_1',\n",
      "       'MVMN_2', 'MVMN_3', 'MVMN_4', 'MVMN_5', 'LODGING_1', 'LODGING_2',\n",
      "       'LODGING_3', 'LODGING_4', 'LODGING_5', 'LODGING_6', 'MVMN_PAYMENT',\n",
      "       'LODGING_PAYMENT', 'ACTIVITY_TYPE_CD', 'ACT_1', 'ACT_2', 'ACT_3',\n",
      "       'ACT_4', 'ACT_PAY_1', 'ACT_PAY_2', 'ACT_PAY_3', 'ACT_PAY_4',\n",
      "       'ACTIVITY_PAYMENT'],\n",
      "      dtype='object')\n",
      "TRAVELER_ID              0\n",
      "REGION_1                 0\n",
      "REGION_2                 0\n",
      "REGION_3                 0\n",
      "REGION_4                 0\n",
      "MALE                     0\n",
      "FEMALE                   0\n",
      "AGE_GRP                  0\n",
      "JOB_1                    0\n",
      "JOB_2                    0\n",
      "JOB_3                    0\n",
      "JOB_4                    0\n",
      "JOB_5                    0\n",
      "TRAVEL_TERM              0\n",
      "TRAVEL_NUM               0\n",
      "MOTIVE_1                 0\n",
      "MOTIVE_2                 0\n",
      "MOTIVE_3                 0\n",
      "MOTIVE_4                 0\n",
      "MOTIVE_5                 0\n",
      "MOTIVE_6                 0\n",
      "MOTIVE_7                 0\n",
      "MOTIVE_8                 0\n",
      "MOTIVE_9                 0\n",
      "TRAVEL_COMPANIONS_NUM    0\n",
      "MARR_STTS                0\n",
      "FAMILY_MEMB              0\n",
      "INCOME                   0\n",
      "MVMN_1                   0\n",
      "MVMN_2                   0\n",
      "MVMN_3                   0\n",
      "MVMN_4                   0\n",
      "MVMN_5                   0\n",
      "LODGING_1                0\n",
      "LODGING_2                0\n",
      "LODGING_3                0\n",
      "LODGING_4                0\n",
      "LODGING_5                0\n",
      "LODGING_6                0\n",
      "MVMN_PAYMENT             0\n",
      "LODGING_PAYMENT          0\n",
      "ACTIVITY_TYPE_CD         0\n",
      "ACT_1                    0\n",
      "ACT_2                    0\n",
      "ACT_3                    0\n",
      "ACT_4                    0\n",
      "ACT_PAY_1                0\n",
      "ACT_PAY_2                0\n",
      "ACT_PAY_3                0\n",
      "ACT_PAY_4                0\n",
      "ACTIVITY_PAYMENT         0\n",
      "dtype: int64\n"
     ]
    },
    {
     "name": "stderr",
     "output_type": "stream",
     "text": [
      "C:\\Users\\qudgn\\AppData\\Local\\Temp\\ipykernel_14324\\2214201689.py:8: FutureWarning: Setting an item of incompatible dtype is deprecated and will raise an error in a future version of pandas. Value '' has dtype incompatible with float64, please explicitly cast to a compatible dtype first.\n",
      "  merged_df.fillna('', inplace=True)\n"
     ]
    }
   ],
   "source": [
    "# 이동 - 사전_이동 조인 \n",
    "\n",
    "merged_df = pd.merge(df_traveller, df_act,\n",
    "                    left_on='TRAVELER_ID', right_on='TRAVEL_ID',\n",
    "                    how='outer')\n",
    "merged_df.drop(columns=['TRAVEL_ID'], inplace = True)\n",
    "\n",
    "merged_df.fillna('', inplace=True)\n",
    "\n",
    "print(merged_df.columns)\n",
    "\n",
    "print(merged_df.isnull().sum())"
   ]
  },
  {
   "cell_type": "code",
   "execution_count": null,
   "metadata": {},
   "outputs": [],
   "source": [
    "# merged_df.to_csv('데이터복제실험.csv', index=False)"
   ]
  }
 ],
 "metadata": {
  "kernelspec": {
   "display_name": "Python 3",
   "language": "python",
   "name": "python3"
  },
  "language_info": {
   "codemirror_mode": {
    "name": "ipython",
    "version": 3
   },
   "file_extension": ".py",
   "mimetype": "text/x-python",
   "name": "python",
   "nbconvert_exporter": "python",
   "pygments_lexer": "ipython3",
   "version": "3.10.0"
  }
 },
 "nbformat": 4,
 "nbformat_minor": 2
}
