{
 "cells": [
  {
   "cell_type": "code",
   "execution_count": 1,
   "metadata": {},
   "outputs": [],
   "source": [
    "# 1. 이동 <- 사전_이동 조인\n",
    "import pandas as pd\n",
    "\n",
    "# 이동(조인전)\n",
    "df_mvmn = pd.read_csv('c:/Users/qudgn/Desktop/BH/프로젝트/정규프로젝트/data/TR/TR_전국_전처리/이동/tr_전국_이동_조인전.csv', encoding='ISO-8859-1')\n",
    "\n",
    "# 사전_이동\n",
    "df_adv_mvmn = pd.read_csv('c:/Users/qudgn/Desktop/BH/프로젝트/정규프로젝트/data/TR/TR_전국_전처리/사전/tr_전국_사전이동.csv')\n"
   ]
  },
  {
   "cell_type": "code",
   "execution_count": 2,
   "metadata": {},
   "outputs": [
    {
     "name": "stdout",
     "output_type": "stream",
     "text": [
      "모든 사전_이동 TRAVEL_ID가 df_traveller에 존재합니다.\n"
     ]
    }
   ],
   "source": [
    "# 사전_이동 TRAVEL_ID가 이동 TRAVEL_ID에 존재하지 않는 값 찾기\n",
    "missing_travel_ids = df_adv_mvmn[~df_adv_mvmn['TRAVEL_ID'].isin(df_mvmn['TRAVEL_ID'])]\n",
    "\n",
    "# 존재하지 않는 ID가 있는지 체크\n",
    "if not missing_travel_ids.empty:\n",
    "    print(\"존재하지 않는 TRAVEL_IDs:\")\n",
    "    print(missing_travel_ids['TRAVEL_ID'].unique())  # 고유 ID 출력\n",
    "else:\n",
    "    print(\"모든 사전_이동 TRAVEL_ID가 df_traveller에 존재합니다.\")"
   ]
  },
  {
   "cell_type": "markdown",
   "metadata": {},
   "source": [
    "존재하지 않는 TRAVEL_IDs:\n",
    "['f004628' 'g012679' 'h006651' 'h006747']"
   ]
  },
  {
   "cell_type": "code",
   "execution_count": 3,
   "metadata": {},
   "outputs": [
    {
     "name": "stdout",
     "output_type": "stream",
     "text": [
      "Index(['TRAVEL_ID', 'MVMN_SE', 'MVMN_1_x', 'MVMN_2_x', 'MVMN_3_x', 'MVMN_4_x',\n",
      "       'MVMN_5_x', 'PAYMENT_MVMN_x', 'MVMN_1_y', 'MVMN_2_y', 'MVMN_3_y',\n",
      "       'MVMN_4_y', 'MVMN_5_y', 'PAYMENT_MVMN_y'],\n",
      "      dtype='object')\n",
      "TRAVEL_ID         0\n",
      "MVMN_SE           0\n",
      "MVMN_1_x          0\n",
      "MVMN_2_x          0\n",
      "MVMN_3_x          0\n",
      "MVMN_4_x          0\n",
      "MVMN_5_x          0\n",
      "PAYMENT_MVMN_x    0\n",
      "MVMN_1_y          0\n",
      "MVMN_2_y          0\n",
      "MVMN_3_y          0\n",
      "MVMN_4_y          0\n",
      "MVMN_5_y          0\n",
      "PAYMENT_MVMN_y    0\n",
      "dtype: int64\n"
     ]
    },
    {
     "name": "stderr",
     "output_type": "stream",
     "text": [
      "C:\\Users\\qudgn\\AppData\\Local\\Temp\\ipykernel_19116\\740923194.py:8: FutureWarning: Setting an item of incompatible dtype is deprecated and will raise an error in a future version of pandas. Value '' has dtype incompatible with float64, please explicitly cast to a compatible dtype first.\n",
      "  merged_df.fillna('', inplace=True)\n"
     ]
    }
   ],
   "source": [
    "# 이동 - 사전_이동 조인 \n",
    "\n",
    "merged_df = pd.merge(df_mvmn, df_adv_mvmn,\n",
    "                    left_on='TRAVEL_ID', right_on='TRAVEL_ID',\n",
    "                    how='left')\n",
    "#merged_df.drop(columns=['TRAVEL_ID'], inplace = True)\n",
    "\n",
    "merged_df.fillna('', inplace=True)\n",
    "\n",
    "print(merged_df.columns)\n",
    "\n",
    "print(merged_df.isnull().sum())"
   ]
  },
  {
   "cell_type": "code",
   "execution_count": null,
   "metadata": {},
   "outputs": [],
   "source": [
    "# merged_df.to_csv('전국_이동_조인.csv', index=False)"
   ]
  },
  {
   "cell_type": "code",
   "execution_count": 8,
   "metadata": {},
   "outputs": [],
   "source": [
    "# 2. 숙박 <- 사전_숙박 조인\n",
    "import pandas as pd\n",
    "\n",
    "# 숙박(조인전)\n",
    "df_lodge = pd.read_csv('c:/Users/qudgn/Desktop/BH/프로젝트/정규프로젝트/data/TR/TR_전국_전처리/숙박/tr_lodge_전국_숙박.csv')\n",
    "\n",
    "# 사전_숙박\n",
    "df_adv_lodge = pd.read_csv('c:/Users/qudgn/Desktop/BH/프로젝트/정규프로젝트/data/TR/TR_전국_전처리/사전/tr_adv_consume_전국3_숙박.csv')"
   ]
  },
  {
   "cell_type": "code",
   "execution_count": 10,
   "metadata": {},
   "outputs": [
    {
     "name": "stdout",
     "output_type": "stream",
     "text": [
      "모든 사전_숙박 TRAVEL_ID가 df_traveller에 존재합니다.\n"
     ]
    }
   ],
   "source": [
    "# 사전_숙박 TRAVEL_ID가 이동 TRAVEL_ID에 존재하지 않는 값 찾기\n",
    "missing_travel_ids = df_adv_lodge[~df_adv_lodge['TRAVEL_ID'].isin(df_lodge['TRAVEL_ID'])]\n",
    "\n",
    "# 존재하지 않는 ID가 있는지 체크\n",
    "if not missing_travel_ids.empty:\n",
    "    print(\"존재하지 않는 TRAVEL_IDs:\")\n",
    "    print(missing_travel_ids['TRAVEL_ID'].unique())  # 고유 ID 출력\n",
    "else:\n",
    "    print(\"모든 사전_숙박 TRAVEL_ID가 df_traveller에 존재합니다.\")"
   ]
  },
  {
   "cell_type": "code",
   "execution_count": 11,
   "metadata": {},
   "outputs": [
    {
     "name": "stdout",
     "output_type": "stream",
     "text": [
      "Index(['LODGING_1_x', 'LODGING_2_x', 'LODGING_3_x', 'LODGING_4_x',\n",
      "       'LODGING_5_x', 'LODGING_6_x', 'LODGING_PAYMENT', 'LODGING_1_y',\n",
      "       'LODGING_2_y', 'LODGING_3_y', 'LODGING_4_y', 'LODGING_5_y',\n",
      "       'LODGING_6_y', 'LODGING_PAY'],\n",
      "      dtype='object')\n",
      "LODGING_1_x        0\n",
      "LODGING_2_x        0\n",
      "LODGING_3_x        0\n",
      "LODGING_4_x        0\n",
      "LODGING_5_x        0\n",
      "LODGING_6_x        0\n",
      "LODGING_PAYMENT    0\n",
      "LODGING_1_y        0\n",
      "LODGING_2_y        0\n",
      "LODGING_3_y        0\n",
      "LODGING_4_y        0\n",
      "LODGING_5_y        0\n",
      "LODGING_6_y        0\n",
      "LODGING_PAY        0\n",
      "dtype: int64\n"
     ]
    },
    {
     "name": "stderr",
     "output_type": "stream",
     "text": [
      "C:\\Users\\qudgn\\AppData\\Local\\Temp\\ipykernel_23124\\2810844057.py:8: FutureWarning: Setting an item of incompatible dtype is deprecated and will raise an error in a future version of pandas. Value '' has dtype incompatible with float64, please explicitly cast to a compatible dtype first.\n",
      "  merged_df.fillna('', inplace=True)\n"
     ]
    }
   ],
   "source": [
    "# 숙박 - 사전_숙박 조인 \n",
    "\n",
    "merged_df = pd.merge(df_lodge, df_adv_lodge,\n",
    "                    left_on='TRAVEL_ID', right_on='TRAVEL_ID',\n",
    "                    how='left')\n",
    "#merged_df.drop(columns=['TRAVEL_ID'], inplace = True)\n",
    "\n",
    "merged_df.fillna('', inplace=True)\n",
    "\n",
    "print(merged_df.columns)\n",
    "\n",
    "print(merged_df.isnull().sum())"
   ]
  },
  {
   "cell_type": "code",
   "execution_count": 12,
   "metadata": {},
   "outputs": [],
   "source": [
    "# merged_df.to_csv('전국_숙박_조인.csv', index=False)"
   ]
  },
  {
   "cell_type": "code",
   "execution_count": 26,
   "metadata": {},
   "outputs": [],
   "source": [
    "# 3. 행동 <- 사전_행동 조인\n",
    "import pandas as pd\n",
    "\n",
    "# 행동(조인전)\n",
    "df_act = pd.read_csv('c:/Users/qudgn/Desktop/BH/프로젝트/정규프로젝트/data/TR/TR_전국_전처리/행동/tr_activity_전국.csv')\n",
    "\n",
    "# 사전_숙박\n",
    "df_adv_act = pd.read_csv('c:/Users/qudgn/Desktop/BH/프로젝트/정규프로젝트/data/TR/TR_전국_전처리/사전/tr_adv_consume_전국3_행동2.csv')"
   ]
  },
  {
   "cell_type": "code",
   "execution_count": 27,
   "metadata": {},
   "outputs": [
    {
     "name": "stdout",
     "output_type": "stream",
     "text": [
      "모든 사전_숙박 TRAVEL_ID가 df_traveller에 존재합니다.\n"
     ]
    }
   ],
   "source": [
    "# 사전_행동 TRAVEL_ID가 행동 TRAVEL_ID에 존재하지 않는 값 찾기\n",
    "missing_travel_ids = df_adv_act[~df_adv_act['TRAVEL_ID'].isin(df_act['TRAVEL_ID'])]\n",
    "\n",
    "# 존재하지 않는 ID가 있는지 체크\n",
    "if not missing_travel_ids.empty:\n",
    "    print(\"존재하지 않는 TRAVEL_IDs:\")\n",
    "    print(missing_travel_ids['TRAVEL_ID'].unique())  # 고유 ID 출력\n",
    "else:\n",
    "    print(\"모든 사전_숙박 TRAVEL_ID가 df_traveller에 존재합니다.\")"
   ]
  },
  {
   "cell_type": "markdown",
   "metadata": {},
   "source": [
    "존재하지 않는 TRAVEL_IDs:\n",
    "['e000004' 'e000938' 'e001521' 'e002254' 'e002399' 'e002782' 'e003002'\n",
    " 'e003704' 'e004222' 'e004432' 'e008307' 'e009895' 'e012805' 'f001299'\n",
    " 'f001480' 'f001598' 'f010276' 'g000014' 'g001008' 'g002098' 'g002258'\n",
    " 'g002585' 'g002842' 'g003192' 'g007536' 'g011522' 'h000291' 'h000317'\n",
    " 'h002167']"
   ]
  },
  {
   "cell_type": "code",
   "execution_count": 28,
   "metadata": {},
   "outputs": [
    {
     "name": "stdout",
     "output_type": "stream",
     "text": [
      "Index(['TRAVEL_ID', 'ACTIVITY_TYPE_CD', 'ACT_1_x', 'ACT_2_x', 'ACT_3_x',\n",
      "       'ACT_4_x', 'ACT_PAY_1', 'ACT_PAY_2', 'ACT_PAY_3', 'ACT_PAY_4',\n",
      "       'ACTIVITY_PAYMENT', 'ACT_1_y', 'ACT_2_y', 'ACT_3_y', 'ACT_4_y',\n",
      "       'ACT_PAY1', 'ACT_PAY2', 'ACT_PAY3', 'ACT_PAY4'],\n",
      "      dtype='object')\n",
      "TRAVEL_ID           0\n",
      "ACTIVITY_TYPE_CD    0\n",
      "ACT_1_x             0\n",
      "ACT_2_x             0\n",
      "ACT_3_x             0\n",
      "ACT_4_x             0\n",
      "ACT_PAY_1           0\n",
      "ACT_PAY_2           0\n",
      "ACT_PAY_3           0\n",
      "ACT_PAY_4           0\n",
      "ACTIVITY_PAYMENT    0\n",
      "ACT_1_y             0\n",
      "ACT_2_y             0\n",
      "ACT_3_y             0\n",
      "ACT_4_y             0\n",
      "ACT_PAY1            0\n",
      "ACT_PAY2            0\n",
      "ACT_PAY3            0\n",
      "ACT_PAY4            0\n",
      "dtype: int64\n"
     ]
    },
    {
     "name": "stderr",
     "output_type": "stream",
     "text": [
      "C:\\Users\\qudgn\\AppData\\Local\\Temp\\ipykernel_23124\\2873729504.py:8: FutureWarning: Setting an item of incompatible dtype is deprecated and will raise an error in a future version of pandas. Value '' has dtype incompatible with float64, please explicitly cast to a compatible dtype first.\n",
      "  merged_df.fillna('', inplace=True)\n"
     ]
    }
   ],
   "source": [
    "# 행동 - 사전_행동 조인 \n",
    "\n",
    "merged_df = pd.merge(df_act, df_adv_act,\n",
    "                    left_on='TRAVEL_ID', right_on='TRAVEL_ID',\n",
    "                    how='left')\n",
    "#merged_df.drop(columns=['TRAVEL_ID'], inplace = True)\n",
    "\n",
    "merged_df.fillna('', inplace=True)\n",
    "\n",
    "print(merged_df.columns)\n",
    "\n",
    "print(merged_df.isnull().sum())"
   ]
  },
  {
   "cell_type": "code",
   "execution_count": 29,
   "metadata": {},
   "outputs": [],
   "source": [
    "# merged_df.to_csv('전국_행동_조인.csv', index=False)"
   ]
  },
  {
   "cell_type": "code",
   "execution_count": 1,
   "metadata": {},
   "outputs": [],
   "source": [
    "# 3. 여행자 <- 이동 / 숙박 / 행동 (유형+가격) 조인\n",
    "import pandas as pd\n",
    "\n",
    "# 여행자(조인전)\n",
    "df_traveller = pd.read_csv('c:/Users/qudgn/Desktop/BH/프로젝트/정규프로젝트/data/TR/TR_전국_전처리/여행객/tr_traveller_조인전.csv')\n",
    "\n",
    "# 숙박\n",
    "df_lodge = pd.read_csv('c:/Users/qudgn/Desktop/BH/프로젝트/정규프로젝트/data/TR/TR_전국_전처리/숙박/전국_숙박_조인2.csv')\n",
    "\n",
    "# 이동\n",
    "df_mvmn = pd.read_csv('c:/Users/qudgn/Desktop/BH/프로젝트/정규프로젝트/data/TR/TR_전국_전처리/이동/전국_이동_조인.csv')\n",
    "\n",
    "# 행동\n",
    "df_act = pd.read_csv('c:/Users/qudgn/Desktop/BH/프로젝트/정규프로젝트/data/TR/TR_전국_전처리/행동/전국_행동_조인3.csv')"
   ]
  },
  {
   "cell_type": "code",
   "execution_count": 2,
   "metadata": {},
   "outputs": [
    {
     "name": "stdout",
     "output_type": "stream",
     "text": [
      "모든 숙박 TRAVEL_ID가 df_traveller에 존재합니다.\n"
     ]
    }
   ],
   "source": [
    "# 숙박 TRAVEL_ID가 여행자 TRAVELER_ID에 존재하지 않는 값 찾기\n",
    "missing_travel_ids = df_lodge[~df_lodge['TRAVEL_ID'].isin(df_traveller['TRAVELER_ID'])]\n",
    "\n",
    "# 존재하지 않는 ID가 있는지 체크\n",
    "if not missing_travel_ids.empty:\n",
    "    print(\"존재하지 않는 TRAVEL_IDs:\")\n",
    "    print(missing_travel_ids['TRAVEL_ID'].unique())  # 고유 ID 출력\n",
    "else:\n",
    "    print(\"모든 숙박 TRAVEL_ID가 df_traveller에 존재합니다.\")"
   ]
  },
  {
   "cell_type": "code",
   "execution_count": 3,
   "metadata": {},
   "outputs": [
    {
     "name": "stdout",
     "output_type": "stream",
     "text": [
      "모든 이동 TRAVEL_ID가 df_traveller에 존재합니다.\n"
     ]
    }
   ],
   "source": [
    "# 이동 TRAVEL_ID가 여행자 TRAVELER_ID에 존재하지 않는 값 찾기\n",
    "missing_travel_ids = df_mvmn[~df_mvmn['TRAVEL_ID'].isin(df_traveller['TRAVELER_ID'])]\n",
    "\n",
    "# 존재하지 않는 ID가 있는지 체크\n",
    "if not missing_travel_ids.empty:\n",
    "    print(\"존재하지 않는 TRAVEL_IDs:\")\n",
    "    print(missing_travel_ids['TRAVEL_ID'].unique())  # 고유 ID 출력\n",
    "else:\n",
    "    print(\"모든 이동 TRAVEL_ID가 df_traveller에 존재합니다.\")"
   ]
  },
  {
   "cell_type": "code",
   "execution_count": 5,
   "metadata": {},
   "outputs": [
    {
     "name": "stdout",
     "output_type": "stream",
     "text": [
      "모든 행동 TRAVEL_ID가 df_traveller에 존재합니다.\n"
     ]
    }
   ],
   "source": [
    "# 행동 TRAVEL_ID가 여행자 TRAVELER_ID에 존재하지 않는 값 찾기\n",
    "missing_travel_ids = df_act[~df_act['TRAVEL_ID'].isin(df_traveller['TRAVELER_ID'])]\n",
    "\n",
    "# 존재하지 않는 ID가 있는지 체크\n",
    "if not missing_travel_ids.empty:\n",
    "    print(\"존재하지 않는 TRAVEL_IDs:\")\n",
    "    print(missing_travel_ids['TRAVEL_ID'].unique())  # 고유 ID 출력\n",
    "else:\n",
    "    print(\"모든 행동 TRAVEL_ID가 df_traveller에 존재합니다.\")"
   ]
  },
  {
   "cell_type": "code",
   "execution_count": 6,
   "metadata": {},
   "outputs": [
    {
     "name": "stdout",
     "output_type": "stream",
     "text": [
      "Index(['TRAVELER_ID', 'MALE', 'FEMALE', 'AGE_GRP', 'JOB_1', 'JOB_2', 'JOB_3',\n",
      "       'JOB_4', 'JOB_5', 'TRAVEL_TERM', 'TRAVEL_NUM', 'MOTIVE_1', 'MOTIVE_2',\n",
      "       'MOTIVE_3', 'MOTIVE_4', 'MOTIVE_5', 'MOTIVE_6', 'MOTIVE_7', 'MOTIVE_8',\n",
      "       'MOTIVE_9', 'TRAVEL_COMPANIONS_NUM', 'MARR_STTS', 'FAMILY_MEMB',\n",
      "       'INCOME', 'MVMN_1', 'MVMN_2', 'MVMN_3', 'MVMN_4', 'MVMN_5',\n",
      "       'MVMN_PAYMENT', 'LODGING_1', 'LODGING_2', 'LODGING_3', 'LODGING_4',\n",
      "       'LODGING_5', 'LODGING_6', 'LODGING_PAYMENT', 'ACT_1', 'ACT_2', 'ACT_3',\n",
      "       'ACT_4', 'ACTIVITY_PAYMENT'],\n",
      "      dtype='object')\n",
      "TRAVELER_ID              0\n",
      "MALE                     0\n",
      "FEMALE                   0\n",
      "AGE_GRP                  0\n",
      "JOB_1                    0\n",
      "JOB_2                    0\n",
      "JOB_3                    0\n",
      "JOB_4                    0\n",
      "JOB_5                    0\n",
      "TRAVEL_TERM              0\n",
      "TRAVEL_NUM               0\n",
      "MOTIVE_1                 0\n",
      "MOTIVE_2                 0\n",
      "MOTIVE_3                 0\n",
      "MOTIVE_4                 0\n",
      "MOTIVE_5                 0\n",
      "MOTIVE_6                 0\n",
      "MOTIVE_7                 0\n",
      "MOTIVE_8                 0\n",
      "MOTIVE_9                 0\n",
      "TRAVEL_COMPANIONS_NUM    0\n",
      "MARR_STTS                0\n",
      "FAMILY_MEMB              0\n",
      "INCOME                   0\n",
      "MVMN_1                   0\n",
      "MVMN_2                   0\n",
      "MVMN_3                   0\n",
      "MVMN_4                   0\n",
      "MVMN_5                   0\n",
      "MVMN_PAYMENT             0\n",
      "LODGING_1                0\n",
      "LODGING_2                0\n",
      "LODGING_3                0\n",
      "LODGING_4                0\n",
      "LODGING_5                0\n",
      "LODGING_6                0\n",
      "LODGING_PAYMENT          0\n",
      "ACT_1                    0\n",
      "ACT_2                    0\n",
      "ACT_3                    0\n",
      "ACT_4                    0\n",
      "ACTIVITY_PAYMENT         0\n",
      "dtype: int64\n"
     ]
    },
    {
     "name": "stderr",
     "output_type": "stream",
     "text": [
      "C:\\Users\\qudgn\\AppData\\Local\\Temp\\ipykernel_15132\\1456754319.py:23: FutureWarning: Setting an item of incompatible dtype is deprecated and will raise an error in a future version of pandas. Value '' has dtype incompatible with float64, please explicitly cast to a compatible dtype first.\n",
      "  merged_df.fillna('', inplace=True)\n"
     ]
    }
   ],
   "source": [
    "# 여행자 - 이동 조인 \n",
    "\n",
    "merged_df = pd.merge(df_traveller, df_mvmn,\n",
    "                    left_on='TRAVELER_ID', right_on='TRAVEL_ID',\n",
    "                    how='left')\n",
    "merged_df.drop(columns=['TRAVEL_ID'], inplace = True)\n",
    "\n",
    "# 여행자 - 이동 - 숙박 조인\n",
    "merged_df = pd.merge(merged_df, df_lodge,\n",
    "                    left_on='TRAVELER_ID', right_on='TRAVEL_ID',\n",
    "                    how='left')\n",
    "merged_df.drop(columns=['TRAVEL_ID'], inplace = True)\n",
    "\n",
    "\n",
    "# 여행자 - 이동 - 숙박 - 행동 조인\n",
    "merged_df = pd.merge(merged_df, df_act,\n",
    "                    left_on='TRAVELER_ID', right_on='TRAVEL_ID',\n",
    "                    how='left')\n",
    "merged_df.drop(columns=['TRAVEL_ID'], inplace = True)\n",
    "\n",
    "\n",
    "\n",
    "merged_df.fillna('', inplace=True)\n",
    "\n",
    "print(merged_df.columns)\n",
    "\n",
    "print(merged_df.isnull().sum())"
   ]
  }
 ],
 "metadata": {
  "kernelspec": {
   "display_name": "Python 3",
   "language": "python",
   "name": "python3"
  },
  "language_info": {
   "codemirror_mode": {
    "name": "ipython",
    "version": 3
   },
   "file_extension": ".py",
   "mimetype": "text/x-python",
   "name": "python",
   "nbconvert_exporter": "python",
   "pygments_lexer": "ipython3",
   "version": "3.10.0"
  }
 },
 "nbformat": 4,
 "nbformat_minor": 2
}
